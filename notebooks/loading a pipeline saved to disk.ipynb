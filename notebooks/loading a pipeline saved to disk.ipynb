{
 "cells": [
  {
   "cell_type": "code",
   "execution_count": 1,
   "metadata": {},
   "outputs": [],
   "source": [
    "from joblib import load\n",
    "import pandas as pd\n",
    "\n",
    "pipeline = load('pipeline.joblib')"
   ]
  },
  {
   "cell_type": "code",
   "execution_count": 2,
   "metadata": {},
   "outputs": [
    {
     "data": {
      "text/plain": [
       "Pipeline(steps=[('ordinalencoder',\n",
       "                 OrdinalEncoder(cols=['term', 'purpose'],\n",
       "                                mapping=[{'col': 'term',\n",
       "                                          'data_type': dtype('O'),\n",
       "                                          'mapping':  36 months    1\n",
       " 60 months    2\n",
       "NaN          -2\n",
       "dtype: int64},\n",
       "                                         {'col': 'purpose',\n",
       "                                          'data_type': dtype('O'),\n",
       "                                          'mapping': debt_consolidation     1\n",
       "credit_card            2\n",
       "home_improvement       3\n",
       "other                  4\n",
       "car                    5\n",
       "major_purchase         6\n",
       "educational            7\n",
       "vacation               8\n",
       "moving                 9\n",
       "medical               10\n",
       "house                 11\n",
       "wedding               12\n",
       "small_business        13\n",
       "renewable_energy      14\n",
       "NaN                   -2\n",
       "dtype: int64}])),\n",
       "                ('simpleimputer', SimpleImputer()),\n",
       "                ('randomforestregressor',\n",
       "                 RandomForestRegressor(max_depth=15,\n",
       "                                       max_features=0.11881362431307962,\n",
       "                                       n_estimators=301, random_state=42))])"
      ]
     },
     "execution_count": 2,
     "metadata": {},
     "output_type": "execute_result"
    }
   ],
   "source": [
    "pipeline"
   ]
  },
  {
   "cell_type": "code",
   "execution_count": 3,
   "metadata": {},
   "outputs": [
    {
     "data": {
      "text/plain": [
       "sklearn.pipeline.Pipeline"
      ]
     },
     "execution_count": 3,
     "metadata": {},
     "output_type": "execute_result"
    }
   ],
   "source": [
    "type(pipeline)"
   ]
  },
  {
   "cell_type": "code",
   "execution_count": 7,
   "metadata": {},
   "outputs": [],
   "source": [
    "def predict(fico_range_low, term, dti, revol_util, annual_inc,loan_amnt,purpose):\n",
    "    df = pd.DataFrame(\n",
    "        columns=[\"fico_range_low\"\n",
    "             , 'term'\n",
    "             , 'dti'\n",
    "             , 'revol_util'\n",
    "             , 'annual_inc'\n",
    "             , 'loan_amnt'\n",
    "             , 'purpose'], \n",
    "        data=[[fico_range_low, term, dti, revol_util, annual_inc,loan_amnt,purpose]]\n",
    "    )\n",
    "    y_pred = pipeline.predict(df)[0]\n",
    "    return f'{y_pred:.2f}% Interest Rate'"
   ]
  },
  {
   "cell_type": "code",
   "execution_count": 8,
   "metadata": {},
   "outputs": [
    {
     "data": {
      "text/plain": [
       "'8.43% Interest Rate'"
      ]
     },
     "execution_count": 8,
     "metadata": {},
     "output_type": "execute_result"
    }
   ],
   "source": [
    "predict(fico_range_low = 800, term = \"36 months\", dti = 20, revol_util = 40, annual_inc = 100000,loan_amnt = 40000,purpose = 'debt_consolidation')"
   ]
  },
  {
   "cell_type": "code",
   "execution_count": 9,
   "metadata": {},
   "outputs": [
    {
     "data": {
      "text/plain": [
       "'14.17% Interest Rate'"
      ]
     },
     "execution_count": 9,
     "metadata": {},
     "output_type": "execute_result"
    }
   ],
   "source": [
    "predict(fico_range_low = 600, term = \"60 months\", dti = 40, revol_util = 40, annual_inc = 10000,loan_amnt = 40000,purpose = 'debt_consolidation')"
   ]
  }
 ],
 "metadata": {
  "kernelspec": {
   "display_name": "Python 3",
   "language": "python",
   "name": "python3"
  },
  "language_info": {
   "codemirror_mode": {
    "name": "ipython",
    "version": 3
   },
   "file_extension": ".py",
   "mimetype": "text/x-python",
   "name": "python",
   "nbconvert_exporter": "python",
   "pygments_lexer": "ipython3",
   "version": "3.8.5"
  }
 },
 "nbformat": 4,
 "nbformat_minor": 4
}
